{
 "cells": [
  {
   "cell_type": "markdown",
   "metadata": {
    "collapsed": true
   },
   "source": [
    "# Genetic Algorithm\n",
    "\n",
    "### Our task: If we we're asked to guess a random sentence given the number of letters it has and we're told after each guess the percentage of letters we got correct, what is an efficient way to arrive at the correct sentence rather than randomly guessing each letter of the phrase?\n",
    "\n",
    "#### Genetic algorithms are used in optimization and search problems, they are the inpired by Darwinian evolution which builds upon three foundational principles:\n",
    "    1. Selection - ability to pass 'genes' to the next generation\n",
    "    2. Crossover - find the fittest 'entities' and perform corssover to create new population\n",
    "    3. Mutation - add random modification that to introduce genetic diversity"
   ]
  },
  {
   "cell_type": "code",
   "execution_count": 3,
   "metadata": {
    "collapsed": true
   },
   "outputs": [],
   "source": [
    "import random"
   ]
  },
  {
   "cell_type": "code",
   "execution_count": 34,
   "metadata": {
    "collapsed": false
   },
   "outputs": [
    {
     "name": "stdout",
     "output_type": "stream",
     "text": [
      "yvyu \n",
      "uusuu\n",
      "uusuf\n",
      "284 yusuf\n"
     ]
    }
   ],
   "source": [
    "def genetic_algorithm_1(phrase, total_population, mutation_rate):\n",
    "        \n",
    "    # this function returns a lowercase character\n",
    "    def new_character():\n",
    "        random_number = random.randint(97, 123)\n",
    "        if random_number == 123:\n",
    "            return ' '\n",
    "        else:\n",
    "            return chr(random_number)\n",
    "    \n",
    "    # initial funtion that makes up random 'total_population' number of phrases\n",
    "    def create_initial_population():\n",
    "        population = []\n",
    "        for i in range(total_population):\n",
    "            temp_string = ''\n",
    "            for j in range(len(phrase)):\n",
    "                temp_string += new_character()\n",
    "            population.append(temp_string)\n",
    "        return population\n",
    "\n",
    "    # returns an array of the number of chars for each array that are similar to the actual phrase\n",
    "    def compute_fitness(population_array):\n",
    "        fitness_values = []\n",
    "        for i in range(len(population_array)):\n",
    "            temp_counter = 0\n",
    "            for j in range(len(phrase)):\n",
    "                if phrase[j] == population_array[i][j]:\n",
    "                    temp_counter += 1\n",
    "            fitness_values.append(temp_counter)\n",
    "        return fitness_values\n",
    "    \n",
    "    # returns the fittest two elements based on probability\n",
    "    def return_fittest_elements(population_array, fitness_array):\n",
    "        for j in range(len(population_array)-1, 0, -1):\n",
    "            for i in range(0, j):\n",
    "                if fitness_array[i+1] < fitness_array[i]:\n",
    "                    fitness_array[i], fitness_array[i+1] = fitness_array[i+1], fitness_array[i]\n",
    "                    population_array[i], population_array[i+1] = population_array[i+1], population_array[i]\n",
    "        return [population_array[-2],population_array[-1]]\n",
    "\n",
    "    # generates a new phrase based on the top three fittest contenders\n",
    "    def generate_phrase(parents_array):\n",
    "        rtn = ''\n",
    "        half_length = int(len(parents_array)/2)\n",
    "        rtn += parents_array[0][0:half_length]\n",
    "        rtn += parents_array[1][half_length:]\n",
    "        return rtn\n",
    "    \n",
    "    def create_population_from_data(some_phrase):\n",
    "        array = []\n",
    "        for i in range(total_population):\n",
    "            word = ''\n",
    "            for j in range(len(phrase)):\n",
    "                if random.random() < mutation_rate:\n",
    "                    word += new_character()\n",
    "                else:\n",
    "                    word += some_phrase[random.randint(0,len(some_phrase)-1)]\n",
    "            array.append(word)\n",
    "        return array\n",
    "            \n",
    "\n",
    "\n",
    "    # initial step\n",
    "    population = create_initial_population()\n",
    "    \n",
    "    # looping step\n",
    "    fitness_of_population = compute_fitness(population)\n",
    "    chosen_parents = return_fittest_elements(population, fitness_of_population)\n",
    "    guess_phrase = generate_phrase(chosen_parents)\n",
    "    i = 0\n",
    "    while guess_phrase != phrase:\n",
    "        population = create_population_from_data(guess_phrase)\n",
    "        fitness_of_population = compute_fitness(population)\n",
    "        chosen_parents = return_fittest_elements(population, fitness_of_population)\n",
    "        guess_phrase = generate_phrase(chosen_parents)\n",
    "        if i%100==0:\n",
    "            print(guess_phrase)\n",
    "        i += 1\n",
    "    print(i, guess_phrase)\n",
    "    \n",
    "    \n",
    "    \n",
    "if __name__ == '__main__':\n",
    "    genetic_algorithm_1('yusuf', 150, 0.1)"
   ]
  },
  {
   "cell_type": "code",
   "execution_count": null,
   "metadata": {
    "collapsed": true
   },
   "outputs": [],
   "source": []
  }
 ],
 "metadata": {
  "kernelspec": {
   "display_name": "Python 3",
   "language": "python",
   "name": "python3"
  },
  "language_info": {
   "codemirror_mode": {
    "name": "ipython",
    "version": 3
   },
   "file_extension": ".py",
   "mimetype": "text/x-python",
   "name": "python",
   "nbconvert_exporter": "python",
   "pygments_lexer": "ipython3",
   "version": "3.6.0"
  }
 },
 "nbformat": 4,
 "nbformat_minor": 1
}
